{
 "cells": [
  {
   "cell_type": "markdown",
   "id": "5b8166a1",
   "metadata": {},
   "source": [
    "# Movie demos"
   ]
  },
  {
   "cell_type": "code",
   "execution_count": 15,
   "id": "6968d13b",
   "metadata": {},
   "outputs": [],
   "source": [
    "import os\n",
    "import logging\n",
    "import warnings\n",
    "import numpy as np\n",
    "import matplotlib.pyplot as plt\n",
    "import matplotlib.animation as animation\n",
    "from matplotlib.patches import Ellipse\n",
    "from IPython.display import HTML\n",
    "from matplotlib import rcParams\n",
    "from numpy.linalg import norm\n",
    "from numpy import degrees\n",
    "from copy import deepcopy"
   ]
  },
  {
   "cell_type": "code",
   "execution_count": 2,
   "id": "a1aeb172",
   "metadata": {},
   "outputs": [],
   "source": [
    "from pNeuma_simulator import params\n",
    "from pNeuma_simulator.results import loader"
   ]
  },
  {
   "cell_type": "code",
   "execution_count": null,
   "id": "a4192ef3",
   "metadata": {
    "code_folding": [
     2
    ]
   },
   "outputs": [],
   "source": [
    "warnings.filterwarnings(\"ignore\")\n",
    "rcParams[\"animation.embed_limit\"] = 2**128\n",
    "rcParams.update(\n",
    "    {\n",
    "        \"font.family\": \"sans-serif\",\n",
    "        \"font.sans-serif\": \"Helvetica\",\n",
    "        \"mathtext.fontset\": \"stixsans\",\n",
    "        \"mathtext.default\": \"regular\",\n",
    "        \"font.size\": 7,\n",
    "        \"axes.titlesize\": 7,\n",
    "        \"xtick.labelsize\": 6,\n",
    "        \"ytick.labelsize\": 6,\n",
    "        \"axes.linewidth\": 0.25,\n",
    "        \"xtick.major.width\": 0.25,\n",
    "        \"ytick.major.width\": 0.25,\n",
    "        \"xtick.minor.width\": 0.25,\n",
    "        \"ytick.minor.width\": 0.25,\n",
    "    }\n",
    ")\n",
    "logging.getLogger(\"matplotlib.font_manager\").disabled = True"
   ]
  },
  {
   "cell_type": "markdown",
   "id": "87df108d",
   "metadata": {},
   "source": [
    "## Animations"
   ]
  },
  {
   "cell_type": "code",
   "execution_count": 4,
   "id": "2c92859a",
   "metadata": {},
   "outputs": [
    {
     "name": "stdout",
     "output_type": "stream",
     "text": [
      "(12, 6).json\n"
     ]
    },
    {
     "data": {
      "text/plain": [
       "256"
      ]
     },
     "execution_count": 4,
     "metadata": {},
     "output_type": "execute_result"
    }
   ],
   "source": [
    "non_empty = []\n",
    "empty = []\n",
    "items = None\n",
    "n_cars = 12  # 8\n",
    "n_moto = 6  # 8\n",
    "permutation = (n_cars, n_moto)\n",
    "n_cars, n_moto = permutation\n",
    "load = True\n",
    "if load:\n",
    "    items = loader(permutation, path=\"./output/\")\n",
    "for item in items:\n",
    "    if isinstance(item[0], list):\n",
    "        non_empty.append(item)\n",
    "    else:\n",
    "        empty.append(item)\n",
    "len(non_empty)"
   ]
  },
  {
   "cell_type": "code",
   "execution_count": 5,
   "id": "5dcb6fb0",
   "metadata": {},
   "outputs": [],
   "source": [
    "ind = 100\n",
    "item = non_empty[ind]"
   ]
  },
  {
   "cell_type": "code",
   "execution_count": 6,
   "id": "190ed09d",
   "metadata": {},
   "outputs": [],
   "source": [
    "def draw(agent, ax):\n",
    "    \"\"\"Add this Particle's Ellipse patch to the Matplotlib Axes ax.\"\"\"\n",
    "    if agent[\"mode\"] == \"Car\":\n",
    "        width = 2 * params.car_l\n",
    "        height = 2 * params.car_w\n",
    "    else:\n",
    "        width = 2 * params.moto_l\n",
    "        height = 2 * params.moto_w\n",
    "    ellipse = Ellipse(\n",
    "        xy=agent[\"pos\"],\n",
    "        width=width,\n",
    "        height=height,\n",
    "        angle=degrees(agent[\"theta\"]),\n",
    "        **{\"ec\": \"k\", \"fc\": \"w\"},\n",
    "    )\n",
    "    ax.add_patch(ellipse)\n",
    "    ax.scatter(\n",
    "        agent[\"pos\"][0],\n",
    "        agent[\"pos\"][1],\n",
    "        marker=\"o\",\n",
    "        fc=\"k\",\n",
    "        ec=\"none\",\n",
    "        s=5,\n",
    "    )\n",
    "    if norm(agent[\"vel\"]) > 0:\n",
    "        ax.arrow(\n",
    "            agent[\"pos\"][0],\n",
    "            agent[\"pos\"][1],\n",
    "            agent[\"vel\"][0],\n",
    "            agent[\"vel\"][1],\n",
    "            antialiased=True,\n",
    "            width=0.1,\n",
    "            head_width=0.5,\n",
    "            head_length=0.75,\n",
    "            color=\"k\",\n",
    "            zorder=2,\n",
    "        )"
   ]
  },
  {
   "cell_type": "code",
   "execution_count": 7,
   "id": "f6e7cc60",
   "metadata": {},
   "outputs": [],
   "source": [
    "def ring(t, l_agents, ax):\n",
    "    ax.set_aspect(\"equal\")\n",
    "    ax.set_xticks([])\n",
    "    ax.set_yticks([])\n",
    "    ax.set_xlim(-params.L / 2, params.L / 2)\n",
    "    ax.set_ylim(-params.lane, params.lane)\n",
    "    ax.set_axis_off()\n",
    "    ax.hlines(\n",
    "        [-params.lane, params.lane],\n",
    "        xmin=-params.L / 2,\n",
    "        xmax=params.L / 2,\n",
    "        color=\"k\",\n",
    "        ls=\"-\",\n",
    "        lw=3,\n",
    "    )\n",
    "    for agent in l_agents[t]:\n",
    "        if agent[\"pos\"][0] < params.d_max:\n",
    "            image = deepcopy(agent)\n",
    "            image[\"pos\"][0] += params.L\n",
    "            draw(image, ax)\n",
    "        elif agent[\"pos\"][0] > params.d_max:\n",
    "            image = deepcopy(agent)\n",
    "            image[\"pos\"][0] -= params.L\n",
    "            draw(image, ax)\n",
    "        draw(agent, ax)"
   ]
  },
  {
   "cell_type": "code",
   "execution_count": 8,
   "id": "90e24b10",
   "metadata": {},
   "outputs": [
    {
     "data": {
      "image/png": "[encoded data removed]",
      "text/plain": [
       "<Figure size 868.11x147.638 with 1 Axes>"
      ]
     },
     "metadata": {},
     "output_type": "display_data"
    }
   ],
   "source": [
    "fig, ax = plt.subplots(figsize=(14.7 * params.cm, 2.5 * params.cm), dpi=150)\n",
    "fig.tight_layout(pad=0)\n",
    "ax.set_aspect(\"equal\")\n",
    "\n",
    "\n",
    "def animate_ring(i, ax=ax, fig=fig):\n",
    "    fig.tight_layout(pad=0)\n",
    "    ax.clear()\n",
    "    ax.set_aspect(\"equal\")\n",
    "    ax.set_xticks([])\n",
    "    ax.set_yticks([])\n",
    "    ax.set_xlim(-params.L / 2, params.L / 2)\n",
    "    ax.set_ylim(-params.lane, params.lane)\n",
    "    ax.set_axis_off()\n",
    "    ring(i, item[0], ax)\n",
    "\n",
    "\n",
    "# Create the animation\n",
    "ani_ring = animation.FuncAnimation(fig, animate_ring, frames=range(0, len(item[0]), 1))"
   ]
  },
  {
   "cell_type": "code",
   "execution_count": 11,
   "id": "4b8851ef",
   "metadata": {},
   "outputs": [],
   "source": [
    "# Save the animation as an HTML video\n",
    "ani_ring_html = ani_ring.to_jshtml()"
   ]
  },
  {
   "cell_type": "code",
   "execution_count": 17,
   "id": "15b77b03",
   "metadata": {},
   "outputs": [],
   "source": [
    "# Display the HTML video\n",
    "# HTML(ani_ring_html)"
   ]
  },
  {
   "cell_type": "code",
   "execution_count": null,
   "id": "8e98e76e",
   "metadata": {},
   "outputs": [],
   "source": [
    "path = \"./output/movies/\"\n",
    "os.makedirs(path, exist_ok=True)\n",
    "file = rf\"{path}demo.gif\"\n",
    "writergif = animation.PillowWriter(fps=1 / params.dt)\n",
    "ani_ring.save(file, writer=writergif)"
   ]
  },
  {
   "cell_type": "code",
   "execution_count": null,
   "id": "2dc303ae",
   "metadata": {},
   "outputs": [],
   "source": [
    "def navi(t, l_agents, ID, ax):\n",
    "    a_des = l_agents[t][ID - 1][\"a_des\"]\n",
    "    a0 = l_agents[t][ID - 1][\"a0\"]\n",
    "    alphas = l_agents[t][ID - 1][\"alphas\"]\n",
    "    f_a = l_agents[t][ID - 1][\"f_a\"]\n",
    "    ax.invert_xaxis()\n",
    "    ax.set_yticks([])\n",
    "    ax.plot(np.degrees(alphas), f_a, c=\"k\", clip_on=False)\n",
    "    ax.scatter(np.degrees(a_des), 0, clip_on=False, marker=\"+\", c=\"k\")\n",
    "    ax.spines[\"left\"].set_position(\"zero\")\n",
    "    ax.set_xlabel(\"Direction $α$ ($\\deg$)\")\n",
    "    ax.axhline(params.d_max, color=\"k\", ls=\"--\")\n",
    "    ax.axvline(np.degrees(a0), color=\"k\", ls=\":\")\n",
    "    ax.text(np.degrees(a0) + 2, params.d_max + 0.5, \"$α_0$\")\n",
    "    ax.set_ylim(0, params.d_max)\n",
    "    ax.spines[[\"top\", \"right\"]].set_visible(False)"
   ]
  },
  {
   "cell_type": "code",
   "execution_count": null,
   "id": "31792727",
   "metadata": {},
   "outputs": [],
   "source": [
    "ID = 2 * n_cars + n_moto\n",
    "ID"
   ]
  },
  {
   "cell_type": "code",
   "execution_count": null,
   "id": "78664146",
   "metadata": {},
   "outputs": [],
   "source": [
    "fig, ax = plt.subplots(figsize=(6 * params.cm, 5 * params.cm), dpi=150)\n",
    "fig.tight_layout(pad=0)\n",
    "# frame = 1\n",
    "# if frame < COUNT -1:\n",
    "#    frame += 1\n",
    "# else:\n",
    "#    frame = 1\n",
    "frame = -1\n",
    "navi(frame, item[0], ID, ax)"
   ]
  },
  {
   "cell_type": "code",
   "execution_count": null,
   "id": "13b23a86",
   "metadata": {},
   "outputs": [],
   "source": [
    "fig, ax = plt.subplots(figsize=(6 * params.cm, 5 * params.cm), dpi=150)\n",
    "\n",
    "\n",
    "def animate_navi(i, ax=ax):\n",
    "    ax.clear()\n",
    "    ax = navi(i, item[0], ID, ax)\n",
    "\n",
    "\n",
    "# Create the animation\n",
    "ani_navi = animation.FuncAnimation(fig, animate_navi, frames=range(1, len(item[0]), 1))"
   ]
  },
  {
   "cell_type": "code",
   "execution_count": null,
   "id": "ab7f0a57",
   "metadata": {},
   "outputs": [],
   "source": [
    "# Save the animation as an HTML video\n",
    "ani_navi_html = ani_navi.to_jshtml()"
   ]
  },
  {
   "cell_type": "code",
   "execution_count": null,
   "id": "5c95de56",
   "metadata": {},
   "outputs": [],
   "source": [
    "f = r\"navi.gif\"\n",
    "writergif = animation.PillowWriter(fps=1 / params.dt)\n",
    "ani_navi.save(f, writer=writergif)"
   ]
  }
 ],
 "metadata": {
  "kernelspec": {
   "display_name": "myenv",
   "language": "python",
   "name": "python3"
  },
  "language_info": {
   "codemirror_mode": {
    "name": "ipython",
    "version": 3
   },
   "file_extension": ".py",
   "mimetype": "text/x-python",
   "name": "python",
   "nbconvert_exporter": "python",
   "pygments_lexer": "ipython3",
   "version": "3.10.6"
  }
 },
 "nbformat": 4,
 "nbformat_minor": 5
}
