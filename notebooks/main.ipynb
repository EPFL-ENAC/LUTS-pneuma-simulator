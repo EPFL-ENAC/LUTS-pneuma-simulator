{
 "cells": [
  {
   "cell_type": "markdown",
   "id": "5b8166a1",
   "metadata": {},
   "source": [
    "# Main script"
   ]
  },
  {
   "cell_type": "code",
   "execution_count": null,
   "id": "6968d13b",
   "metadata": {},
   "outputs": [],
   "source": [
    "import itertools\n",
    "import json\n",
    "import os\n",
    "import warnings\n",
    "import zipfile\n",
    "\n",
    "from joblib import Parallel, delayed, parallel_backend\n",
    "from joblib.externals.loky import get_reusable_executor\n",
    "import numpy as np\n",
    "from numpy import arange\n",
    "from tqdm.notebook import tqdm"
   ]
  },
  {
   "cell_type": "code",
   "execution_count": 2,
   "id": "a1aeb172",
   "metadata": {},
   "outputs": [],
   "source": [
    "from pNeuma_simulator.results import zipdir\n",
    "from pNeuma_simulator.simulate import batch\n",
    "from pNeuma_simulator import params"
   ]
  },
  {
   "cell_type": "code",
   "execution_count": 3,
   "id": "a4192ef3",
   "metadata": {
    "code_folding": [
     2
    ]
   },
   "outputs": [],
   "source": [
    "warnings.filterwarnings(\"ignore\")"
   ]
  },
  {
   "cell_type": "code",
   "execution_count": 4,
   "id": "d6a7e9a5",
   "metadata": {},
   "outputs": [],
   "source": [
    "# Joblib nested Parallel execution: toy example\n",
    "# https://stackoverflow.com/questions/67891651/\n",
    "scale = 10\n",
    "reps = 8\n",
    "n_jobs = 16\n",
    "n_threads = 4\n",
    "# Caution: effective n_jobs==reps !!!\n",
    "\n",
    "\n",
    "def parallel_in_parallel_test(i):\n",
    "    a = np.ones((scale, scale))\n",
    "    for j in range(5000):\n",
    "        a *= np.random.randn(scale, scale)\n",
    "    return a.sum()\n",
    "\n",
    "\n",
    "def parallel_in_parallel_wrapper(j, n_threads=4):\n",
    "    with parallel_backend(\"loky\", inner_max_num_threads=n_threads):\n",
    "        with Parallel(n_jobs=n_threads) as parallel:\n",
    "            out2 = parallel(delayed(parallel_in_parallel_test)(i) for i in range(100))\n",
    "    return np.array(out2).sum()\n",
    "\n",
    "\n",
    "with Parallel(n_jobs=n_jobs) as parallel:\n",
    "    out = parallel(delayed(parallel_in_parallel_wrapper)(j, n_threads=n_threads) for j in range(reps))\n",
    "# https://stackoverflow.com/questions/67495271/\n",
    "get_reusable_executor().shutdown(wait=True)"
   ]
  },
  {
   "cell_type": "code",
   "execution_count": 5,
   "id": "f11f23ec",
   "metadata": {},
   "outputs": [
    {
     "data": {
      "text/plain": [
       "49"
      ]
     },
     "execution_count": 5,
     "metadata": {},
     "output_type": "execute_result"
    }
   ],
   "source": [
    "path = \"./output/\"\n",
    "os.makedirs(path, exist_ok=True)\n",
    "# Combinatorial configurations\n",
    "n_veh = 8\n",
    "scale = 2\n",
    "l_cars = scale * arange(1, n_veh, 1)\n",
    "l_moto = scale * arange(0, n_veh - 1, 1)\n",
    "permutations = list(itertools.product(l_cars, l_moto))\n",
    "len(permutations)"
   ]
  },
  {
   "cell_type": "code",
   "execution_count": 6,
   "id": "1805fb21",
   "metadata": {},
   "outputs": [
    {
     "data": {
      "application/vnd.jupyter.widget-view+json": {
       "model_id": "13161263b68b48b18044d7d98771dadc",
       "version_major": 2,
       "version_minor": 0
      },
      "text/plain": [
       "0it [00:00, ?it/s]"
      ]
     },
     "metadata": {},
     "output_type": "display_data"
    },
    {
     "name": "stdout",
     "output_type": "stream",
     "text": [
      "(12, 6)\n"
     ]
    }
   ],
   "source": [
    "epochs = 64\n",
    "default_rng = np.random.default_rng(1024)\n",
    "seeds = default_rng.integers(1e8, size=epochs * len(permutations))\n",
    "name = (12, 6)\n",
    "n_jobs = 64\n",
    "n_threads = 1\n",
    "save = True\n",
    "\n",
    "for n, permutation in tqdm(enumerate(permutations)):\n",
    "    start = n * epochs\n",
    "    end = (n + 1) * epochs\n",
    "    if permutation == name:\n",
    "        # https://stackoverflow.com/questions/67891651/\n",
    "        with Parallel(n_jobs=n_jobs) as parallel:\n",
    "            items = parallel(delayed(batch)(seed, permutation, n_jobs=n_threads) for seed in seeds[start:end])\n",
    "        # https://stackoverflow.com/questions/67495271/\n",
    "        get_reusable_executor().shutdown(wait=True)\n",
    "        if save:\n",
    "            # Dump to JSONL https://jsonlines.org/examples/\n",
    "            # https://stackoverflow.com/questions/38915183/\n",
    "            with open(f\"{path}{permutation}.jsonl\", \"w\") as outfile:\n",
    "                for item in items:\n",
    "                    json.dump(item, outfile)\n",
    "                    outfile.write(\"\\n\")\n",
    "            # Compress as Zip and delete original JSONL\n",
    "            with zipfile.ZipFile(f\"{path}{permutation}_.zip\", \"w\", zipfile.ZIP_DEFLATED) as zipf:\n",
    "                zipdir(path, zipf)\n",
    "        print(permutation)"
   ]
  },
  {
   "cell_type": "code",
   "execution_count": null,
   "id": "3a64283b",
   "metadata": {},
   "outputs": [],
   "source": []
  }
 ],
 "metadata": {
  "kernelspec": {
   "display_name": "myenv",
   "language": "python",
   "name": "python3"
  },
  "language_info": {
   "codemirror_mode": {
    "name": "ipython",
    "version": 3
   },
   "file_extension": ".py",
   "mimetype": "text/x-python",
   "name": "python",
   "nbconvert_exporter": "python",
   "pygments_lexer": "ipython3",
   "version": "3.10.6"
  }
 },
 "nbformat": 4,
 "nbformat_minor": 5
}
