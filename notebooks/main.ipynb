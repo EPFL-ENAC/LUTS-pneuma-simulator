{
 "cells": [
  {
   "cell_type": "markdown",
   "id": "5b8166a1",
   "metadata": {},
   "source": [
    "# Main script"
   ]
  },
  {
   "cell_type": "code",
   "execution_count": 1,
   "id": "415e5a6d",
   "metadata": {},
   "outputs": [
    {
     "data": {
      "text/plain": [
       "'0.58.1'"
      ]
     },
     "execution_count": 1,
     "metadata": {},
     "output_type": "execute_result"
    }
   ],
   "source": [
    "import numba\n",
    "\n",
    "numba.__version__"
   ]
  },
  {
   "cell_type": "code",
   "execution_count": 2,
   "id": "f9bf7238",
   "metadata": {},
   "outputs": [
    {
     "data": {
      "text/plain": [
       "'1.15.2'"
      ]
     },
     "execution_count": 2,
     "metadata": {},
     "output_type": "execute_result"
    }
   ],
   "source": [
    "import scipy\n",
    "\n",
    "scipy.__version__"
   ]
  },
  {
   "cell_type": "code",
   "execution_count": 3,
   "id": "947f8eb7",
   "metadata": {},
   "outputs": [
    {
     "data": {
      "text/plain": [
       "'1.2.0'"
      ]
     },
     "execution_count": 3,
     "metadata": {},
     "output_type": "execute_result"
    }
   ],
   "source": [
    "import joblib\n",
    "\n",
    "joblib.__version__"
   ]
  },
  {
   "cell_type": "code",
   "execution_count": 4,
   "id": "6968d13b",
   "metadata": {},
   "outputs": [],
   "source": [
    "import os\n",
    "import json\n",
    "import zipfile\n",
    "import warnings\n",
    "import itertools\n",
    "import numpy as np\n",
    "from joblib import Parallel, delayed\n",
    "from tqdm.notebook import tqdm\n",
    "from numpy import arange"
   ]
  },
  {
   "cell_type": "code",
   "execution_count": 5,
   "id": "a1aeb172",
   "metadata": {},
   "outputs": [],
   "source": [
    "from pNeuma_simulator.simulate import batch\n",
    "from pNeuma_simulator.results import zipdir"
   ]
  },
  {
   "cell_type": "code",
   "execution_count": 6,
   "id": "a4192ef3",
   "metadata": {
    "code_folding": [
     2
    ]
   },
   "outputs": [],
   "source": [
    "warnings.filterwarnings(\"ignore\")"
   ]
  },
  {
   "cell_type": "code",
   "execution_count": 7,
   "id": "f11f23ec",
   "metadata": {},
   "outputs": [
    {
     "data": {
      "text/plain": [
       "49"
      ]
     },
     "execution_count": 7,
     "metadata": {},
     "output_type": "execute_result"
    }
   ],
   "source": [
    "path = \"./output/\"\n",
    "os.makedirs(path, exist_ok=True)\n",
    "# Combinatorial configurations\n",
    "n_veh = 8\n",
    "scale = 2\n",
    "l_cars = scale * arange(1, n_veh, 1)\n",
    "l_moto = scale * arange(0, n_veh - 1, 1)\n",
    "permutations = list(itertools.product(l_cars, l_moto))\n",
    "len(permutations)"
   ]
  },
  {
   "cell_type": "code",
   "execution_count": 8,
   "id": "4394c9a7",
   "metadata": {},
   "outputs": [],
   "source": [
    "permutations = [(12, 6)]"
   ]
  },
  {
   "cell_type": "code",
   "execution_count": 9,
   "id": "1805fb21",
   "metadata": {},
   "outputs": [
    {
     "data": {
      "application/vnd.jupyter.widget-view+json": {
       "model_id": "34afbd90574a492e9fcf683c2af573e4",
       "version_major": 2,
       "version_minor": 0
      },
      "text/plain": [
       "0it [00:00, ?it/s]"
      ]
     },
     "metadata": {},
     "output_type": "display_data"
    },
    {
     "name": "stdout",
     "output_type": "stream",
     "text": [
      "(12, 6)\n"
     ]
    }
   ],
   "source": [
    "run = True\n",
    "# TODO: update code to match function in new version\n",
    "epochs = 32\n",
    "n_jobs = epochs\n",
    "default_rng = np.random.default_rng(1024)\n",
    "seeds = default_rng.integers(1e8, size=epochs * len(permutations))\n",
    "if run:\n",
    "    with Parallel(n_jobs=n_jobs, prefer=\"processes\") as master:\n",
    "        for n, permutation in tqdm(enumerate(permutations)):\n",
    "            start = n * epochs\n",
    "            end = (n + 1) * epochs\n",
    "            items = master(delayed(batch)(seed, permutation) for seed in seeds[start:end])\n",
    "            # Dump to JSONL https://jsonlines.org/examples/\n",
    "            # https://stackoverflow.com/questions/38915183/\n",
    "            with open(f\"{path}{permutation}.jsonl\", \"w\") as outfile:\n",
    "                for item in items:\n",
    "                    json.dump(item, outfile)\n",
    "                    outfile.write(\"\\n\")\n",
    "                # json.dump(items, outfile)\n",
    "            # Compress as Zip and delete original JSON\n",
    "            with zipfile.ZipFile(f\"{path}{permutation}.zip\", \"w\", zipfile.ZIP_DEFLATED) as zipf:\n",
    "                zipdir(path, zipf)\n",
    "            print(permutation)\n",
    "            items = None"
   ]
  },
  {
   "cell_type": "code",
   "execution_count": null,
   "id": "df9d30ed",
   "metadata": {},
   "outputs": [],
   "source": []
  }
 ],
 "metadata": {
  "kernelspec": {
   "display_name": "myenv",
   "language": "python",
   "name": "python3"
  },
  "language_info": {
   "codemirror_mode": {
    "name": "ipython",
    "version": 3
   },
   "file_extension": ".py",
   "mimetype": "text/x-python",
   "name": "python",
   "nbconvert_exporter": "python",
   "pygments_lexer": "ipython3",
   "version": "3.10.6"
  }
 },
 "nbformat": 4,
 "nbformat_minor": 5
}
