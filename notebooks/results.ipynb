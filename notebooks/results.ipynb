{
 "cells": [
  {
   "cell_type": "markdown",
   "id": "5b8166a1",
   "metadata": {},
   "source": [
    "# Compile results"
   ]
  },
  {
   "cell_type": "code",
   "execution_count": null,
   "id": "d24e54ca",
   "metadata": {},
   "outputs": [],
   "source": [
    "import os\n",
    "import zipfile\n",
    "\n",
    "from tqdm.notebook import tqdm\n"
   ]
  },
  {
   "cell_type": "code",
   "execution_count": null,
   "id": "6968d13b",
   "metadata": {},
   "outputs": [],
   "source": [
    "import itertools\n",
    "import json\n",
    "import warnings\n",
    "\n",
    "from numpy import arange\n",
    "from numpy.random import default_rng\n"
   ]
  },
  {
   "cell_type": "code",
   "execution_count": null,
   "id": "a1aeb172",
   "metadata": {},
   "outputs": [],
   "source": [
    "from pNeuma_simulator.results import aggregate, percolate\n"
   ]
  },
  {
   "cell_type": "code",
   "execution_count": 8,
   "id": "a4192ef3",
   "metadata": {
    "code_folding": [
     2
    ]
   },
   "outputs": [],
   "source": [
    "warnings.filterwarnings(\"ignore\")"
   ]
  },
  {
   "cell_type": "code",
   "execution_count": 9,
   "id": "f11f23ec",
   "metadata": {},
   "outputs": [
    {
     "data": {
      "text/plain": [
       "49"
      ]
     },
     "execution_count": 9,
     "metadata": {},
     "output_type": "execute_result"
    }
   ],
   "source": [
    "path = \"./output/\"\n",
    "os.makedirs(path, exist_ok=True)\n",
    "# Combinatorial configurations\n",
    "n_veh = 8\n",
    "scale = 2\n",
    "l_cars = scale * arange(1, n_veh, 1)\n",
    "l_moto = scale * arange(0, n_veh - 1, 1)\n",
    "permutations = list(itertools.product(l_cars, l_moto))\n",
    "len(permutations)"
   ]
  },
  {
   "cell_type": "code",
   "execution_count": 10,
   "id": "e4c27d69",
   "metadata": {},
   "outputs": [],
   "source": [
    "# consider only this last fraction of the simulated data\n",
    "keep = 1 / 3\n",
    "# Pseudorandom number generator\n",
    "seed = 1024\n",
    "rng = default_rng(seed)\n",
    "compile = True"
   ]
  },
  {
   "cell_type": "code",
   "execution_count": null,
   "id": "d9e33578",
   "metadata": {},
   "outputs": [],
   "source": [
    "path = \"./output/\"\n",
    "os.makedirs(path, exist_ok=True)\n",
    "with open(f\"{path}results_.json\") as openfile:\n",
    "    results = json.load(openfile)"
   ]
  },
  {
   "cell_type": "code",
   "execution_count": 12,
   "id": "1d19a077",
   "metadata": {},
   "outputs": [
    {
     "data": {
      "application/vnd.jupyter.widget-view+json": {
       "model_id": "6d79c402f9ab4e20a66bdbe921733413",
       "version_major": 2,
       "version_minor": 0
      },
      "text/plain": [
       "0it [00:00, ?it/s]"
      ]
     },
     "metadata": {},
     "output_type": "display_data"
    },
    {
     "name": "stdout",
     "output_type": "stream",
     "text": [
      "(12, 6).jsonl\n"
     ]
    }
   ],
   "source": [
    "n_cars = 12\n",
    "n_moto = 6\n",
    "verbose = True\n",
    "items = []\n",
    "with zipfile.ZipFile(f\"{path}{(n_cars, n_moto)}.zip\", \"r\") as ziph:\n",
    "    # ziph is zipfile handle\n",
    "    for filename in ziph.namelist():\n",
    "        if filename.endswith(\").jsonl\"):\n",
    "            # Opening JSONL file\n",
    "            with ziph.open(filename, \"r\") as openfile:\n",
    "                # Reading from JSONL file\n",
    "                # https://stackoverflow.com/questions/2081836/\n",
    "                for i, line in enumerate(tqdm(openfile)):\n",
    "                    item = json.loads(line)\n",
    "                    if isinstance(item[0], list):\n",
    "                        items.append(item)\n",
    "                if verbose:\n",
    "                    print(openfile.name)"
   ]
  },
  {
   "cell_type": "code",
   "execution_count": 13,
   "id": "07775312",
   "metadata": {},
   "outputs": [],
   "source": [
    "if compile:\n",
    "    # results = {}\n",
    "    for permutation in [(n_cars, n_moto)]:  # permutations:\n",
    "        # n_cars, n_moto = permutation\n",
    "        results[str(permutation)] = {\n",
    "            \"VKT_cars\": [],\n",
    "            \"VHT_cars\": [],\n",
    "            \"VKT_moto\": [],\n",
    "            \"VHT_moto\": [],\n",
    "        }\n",
    "        # items = loader(permutation, path)\n",
    "        accidents = 0\n",
    "        for item in items:\n",
    "            if isinstance(item[0], list):\n",
    "                (\n",
    "                    VKT_cars,\n",
    "                    VHT_cars,\n",
    "                    VKT_moto,\n",
    "                    VHT_moto,\n",
    "                ) = aggregate(item[0], n_cars, n_moto)\n",
    "                results[str(permutation)][\"VKT_cars\"].append(VKT_cars)\n",
    "                results[str(permutation)][\"VHT_cars\"].append(VHT_cars)\n",
    "                results[str(permutation)][\"VKT_moto\"].append(VKT_moto)\n",
    "                results[str(permutation)][\"VHT_moto\"].append(VHT_moto)\n",
    "            else:\n",
    "                accidents += 1\n",
    "        error = accidents / len(items)\n",
    "        results[str(permutation)][\"error\"] = error\n",
    "        if n_cars > 2 and n_moto > 2:\n",
    "            percolation = percolate(items, n_cars, n_moto, rng, start=5)\n",
    "        else:\n",
    "            percolation = None\n",
    "        results[str(permutation)][\"percolation\"] = percolation\n",
    "        items = None"
   ]
  },
  {
   "cell_type": "code",
   "execution_count": 14,
   "id": "bc0d8e11",
   "metadata": {},
   "outputs": [],
   "source": [
    "write = compile\n",
    "if write:\n",
    "    with open(f\"{path}results_.json\", \"w\") as outfile:\n",
    "        json.dump(results, outfile)"
   ]
  },
  {
   "cell_type": "code",
   "execution_count": null,
   "id": "78b92b4a",
   "metadata": {},
   "outputs": [],
   "source": []
  }
 ],
 "metadata": {
  "kernelspec": {
   "display_name": "myenv",
   "language": "python",
   "name": "python3"
  },
  "language_info": {
   "codemirror_mode": {
    "name": "ipython",
    "version": 3
   },
   "file_extension": ".py",
   "mimetype": "text/x-python",
   "name": "python",
   "nbconvert_exporter": "python",
   "pygments_lexer": "ipython3",
   "version": "3.10.6"
  }
 },
 "nbformat": 4,
 "nbformat_minor": 5
}
