{
 "cells": [
  {
   "cell_type": "markdown",
   "id": "5b8166a1",
   "metadata": {},
   "source": [
    "# Compile results"
   ]
  },
  {
   "cell_type": "code",
   "execution_count": 1,
   "id": "d24e54ca",
   "metadata": {},
   "outputs": [],
   "source": [
    "import os\n",
    "import gc\n",
    "import ijson\n",
    "import zipfile\n",
    "from tqdm.notebook import tqdm"
   ]
  },
  {
   "cell_type": "code",
   "execution_count": 2,
   "id": "6968d13b",
   "metadata": {},
   "outputs": [],
   "source": [
    "import json\n",
    "import warnings\n",
    "import itertools\n",
    "import numpy as np\n",
    "from numpy import arange"
   ]
  },
  {
   "cell_type": "code",
   "execution_count": 3,
   "id": "a1aeb172",
   "metadata": {},
   "outputs": [],
   "source": [
    "from pNeuma_simulator.results import loader, aggregate, percolate"
   ]
  },
  {
   "cell_type": "code",
   "execution_count": 4,
   "id": "a4192ef3",
   "metadata": {
    "code_folding": [
     2
    ]
   },
   "outputs": [],
   "source": [
    "warnings.filterwarnings(\"ignore\")"
   ]
  },
  {
   "cell_type": "code",
   "execution_count": 5,
   "id": "f11f23ec",
   "metadata": {},
   "outputs": [
    {
     "data": {
      "text/plain": [
       "49"
      ]
     },
     "execution_count": 5,
     "metadata": {},
     "output_type": "execute_result"
    }
   ],
   "source": [
    "path = \"./output/\"\n",
    "os.makedirs(path, exist_ok=True)\n",
    "# Combinatorial configurations\n",
    "n_veh = 8\n",
    "scale = 2\n",
    "l_cars = scale * arange(1, n_veh, 1)\n",
    "l_moto = scale * arange(0, n_veh - 1, 1)\n",
    "permutations = list(itertools.product(l_cars, l_moto))\n",
    "len(permutations)"
   ]
  },
  {
   "cell_type": "code",
   "execution_count": 6,
   "id": "e4c27d69",
   "metadata": {},
   "outputs": [],
   "source": [
    "# consider only this last fraction of the simulated data\n",
    "keep = 1 / 3\n",
    "# Pseudorandom number generator\n",
    "seed = 1024\n",
    "rng = np.random.default_rng(seed)\n",
    "compile = True"
   ]
  },
  {
   "cell_type": "code",
   "execution_count": 7,
   "id": "d9e33578",
   "metadata": {},
   "outputs": [],
   "source": [
    "read = False  # not compile\n",
    "path = \"./output/\"\n",
    "os.makedirs(path, exist_ok=True)\n",
    "if read:\n",
    "    with open(f\"{path}results.json\", \"r\") as openfile:\n",
    "        results = json.load(openfile)"
   ]
  },
  {
   "cell_type": "code",
   "execution_count": null,
   "id": "496ef7a5",
   "metadata": {},
   "outputs": [
    {
     "name": "stdout",
     "output_type": "stream",
     "text": [
      "test\n",
      "(2, 2).json\n"
     ]
    }
   ],
   "source": [
    "path = \"./output/\"\n",
    "os.makedirs(path, exist_ok=True)\n",
    "verbose = True\n",
    "permutation = (2, 2)\n",
    "howmany = 1\n",
    "items = []\n",
    "with zipfile.ZipFile(f\"{path}{permutation}.zip\", \"r\") as ziph:\n",
    "    # ziph is zipfile handle\n",
    "    for filename in ziph.namelist():\n",
    "        if filename.endswith(\").json\"):\n",
    "            # Opening JSON file\n",
    "            with ziph.open(filename, \"r\") as openfile:\n",
    "                # Reading from JSON file \n",
    "                # https://stackoverflow.com/questions/37200302/\n",
    "                # https://pythonspeed.com/articles/json-memory-streaming/\n",
    "                # for n, item in enumerate(tqdm(ijson.items(openfile, \"item\"))):\n",
    "                #    if n < howmany:\n",
    "                #        items.append(item)\n",
    "                #        # gc.collect()\n",
    "                #    else:\n",
    "                #        break\n",
    "                items = json.load(openfile)\n",
    "                if verbose:\n",
    "                    print(openfile.name)"
   ]
  },
  {
   "cell_type": "code",
   "execution_count": null,
   "id": "c1cb5948",
   "metadata": {},
   "outputs": [],
   "source": [
    "items = loader(permutation, path)"
   ]
  },
  {
   "cell_type": "code",
   "execution_count": 20,
   "id": "07775312",
   "metadata": {},
   "outputs": [
    {
     "name": "stdout",
     "output_type": "stream",
     "text": [
      "(12, 2).json\n"
     ]
    }
   ],
   "source": [
    "if compile:\n",
    "    # results = {}\n",
    "    for permutation in [(12, 2)]:  # permutations:\n",
    "        n_cars, n_moto = permutation\n",
    "        results[str(permutation)] = {\n",
    "            \"VKT_cars\": [],\n",
    "            \"VHT_cars\": [],\n",
    "            \"VKT_moto\": [],\n",
    "            \"VHT_moto\": [],\n",
    "        }\n",
    "        items = loader(permutation, path)\n",
    "        accidents = 0\n",
    "        for item in items:\n",
    "            if isinstance(item[0], list):\n",
    "                (\n",
    "                    VKT_cars,\n",
    "                    VHT_cars,\n",
    "                    VKT_moto,\n",
    "                    VHT_moto,\n",
    "                ) = aggregate(item[0], n_cars, n_moto)\n",
    "                results[str(permutation)][\"VKT_cars\"].append(VKT_cars)\n",
    "                results[str(permutation)][\"VHT_cars\"].append(VHT_cars)\n",
    "                results[str(permutation)][\"VKT_moto\"].append(VKT_moto)\n",
    "                results[str(permutation)][\"VHT_moto\"].append(VHT_moto)\n",
    "            else:\n",
    "                accidents += 1\n",
    "        error = accidents / len(items)\n",
    "        results[str(permutation)][\"error\"] = error\n",
    "        if n_cars > 2 and n_moto > 2:\n",
    "            percolation = percolate(items, n_moto, rng, start=5)\n",
    "        else:\n",
    "            percolation = None\n",
    "        results[str(permutation)][\"percolation\"] = percolation\n",
    "        items = None"
   ]
  },
  {
   "cell_type": "code",
   "execution_count": 8,
   "id": "bc0d8e11",
   "metadata": {},
   "outputs": [],
   "source": [
    "write = compile\n",
    "if write:\n",
    "    with open(f\"{path}results_.json\", \"w\") as outfile:\n",
    "        json.dump(results, outfile)"
   ]
  },
  {
   "cell_type": "code",
   "execution_count": null,
   "id": "78b92b4a",
   "metadata": {},
   "outputs": [],
   "source": []
  }
 ],
 "metadata": {
  "kernelspec": {
   "display_name": "myenv",
   "language": "python",
   "name": "python3"
  },
  "language_info": {
   "codemirror_mode": {
    "name": "ipython",
    "version": 3
   },
   "file_extension": ".py",
   "mimetype": "text/x-python",
   "name": "python",
   "nbconvert_exporter": "python",
   "pygments_lexer": "ipython3",
   "version": "3.10.6"
  }
 },
 "nbformat": 4,
 "nbformat_minor": 5
}
